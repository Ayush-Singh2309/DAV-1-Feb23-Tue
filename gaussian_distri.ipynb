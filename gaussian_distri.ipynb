{
  "nbformat": 4,
  "nbformat_minor": 0,
  "metadata": {
    "colab": {
      "provenance": [],
      "authorship_tag": "ABX9TyOs66IAKOPAQtZXI2MtEujN",
      "include_colab_link": true
    },
    "kernelspec": {
      "name": "python3",
      "display_name": "Python 3"
    },
    "language_info": {
      "name": "python"
    }
  },
  "cells": [
    {
      "cell_type": "markdown",
      "metadata": {
        "id": "view-in-github",
        "colab_type": "text"
      },
      "source": [
        "<a href=\"https://colab.research.google.com/github/adityajain2407/DAV-1-Feb23-Tue/blob/main/gaussian_distri.ipynb\" target=\"_parent\"><img src=\"https://colab.research.google.com/assets/colab-badge.svg\" alt=\"Open In Colab\"/></a>"
      ]
    },
    {
      "cell_type": "code",
      "execution_count": 1,
      "metadata": {
        "id": "slWvzsbHFLXQ"
      },
      "outputs": [],
      "source": [
        "from scipy.stats import norm"
      ]
    },
    {
      "cell_type": "markdown",
      "source": [
        "The height of people is Gaussian with mean 65 inches and standard deviation 2.5 inches"
      ],
      "metadata": {
        "id": "PIKDMDxDbY2G"
      }
    },
    {
      "cell_type": "code",
      "source": [
        "#Fraction of people are shorter than 69.1\n",
        "\n",
        "z = (69.1 - 65)/2.5"
      ],
      "metadata": {
        "id": "1IlSRlvbbUXh"
      },
      "execution_count": 2,
      "outputs": []
    },
    {
      "cell_type": "code",
      "source": [
        "z"
      ],
      "metadata": {
        "colab": {
          "base_uri": "https://localhost:8080/"
        },
        "id": "6DXk23Vdbh71",
        "outputId": "bf04c1a9-b69d-4f8f-8085-5391e84cfd1d"
      },
      "execution_count": 3,
      "outputs": [
        {
          "output_type": "execute_result",
          "data": {
            "text/plain": [
              "1.6399999999999977"
            ]
          },
          "metadata": {},
          "execution_count": 3
        }
      ]
    },
    {
      "cell_type": "code",
      "source": [
        "norm.cdf(z) #alternative to z-table"
      ],
      "metadata": {
        "colab": {
          "base_uri": "https://localhost:8080/"
        },
        "id": "gJzCXtc0biWK",
        "outputId": "7dbc542b-71e5-4725-d293-7a1c3f8398bd"
      },
      "execution_count": 5,
      "outputs": [
        {
          "output_type": "execute_result",
          "data": {
            "text/plain": [
              "0.949497416525896"
            ]
          },
          "metadata": {},
          "execution_count": 5
        }
      ]
    },
    {
      "cell_type": "code",
      "source": [
        "z = (70.8 - 65)/2.5\n",
        "\n",
        "norm.cdf(z)"
      ],
      "metadata": {
        "colab": {
          "base_uri": "https://localhost:8080/"
        },
        "id": "nQlA7EDtbp3-",
        "outputId": "681b7e50-087d-4a90-f4b0-f83a4dd358ac"
      },
      "execution_count": 6,
      "outputs": [
        {
          "output_type": "execute_result",
          "data": {
            "text/plain": [
              "0.9898295613312803"
            ]
          },
          "metadata": {},
          "execution_count": 6
        }
      ]
    },
    {
      "cell_type": "markdown",
      "source": [
        "Balls produced by manufacturer have mean 50 mm and std dev 2 mm.\n",
        "What fraction of balls are smaller than 53 mm?"
      ],
      "metadata": {
        "id": "JMXkzsPgcCEi"
      }
    },
    {
      "cell_type": "markdown",
      "source": [],
      "metadata": {
        "id": "AIUSQBlucFDZ"
      }
    },
    {
      "cell_type": "code",
      "source": [
        "z = (53 - 50)/2\n",
        "norm.cdf(z)"
      ],
      "metadata": {
        "colab": {
          "base_uri": "https://localhost:8080/"
        },
        "id": "HIPuyTP5b3lT",
        "outputId": "1138c05f-cf0e-4edd-9561-8fe073f81d9c"
      },
      "execution_count": 8,
      "outputs": [
        {
          "output_type": "execute_result",
          "data": {
            "text/plain": [
              "0.9331927987311419"
            ]
          },
          "metadata": {},
          "execution_count": 8
        }
      ]
    },
    {
      "cell_type": "code",
      "source": [
        "z = (68.5 - 65)/2.5\n",
        "norm.cdf(z)"
      ],
      "metadata": {
        "colab": {
          "base_uri": "https://localhost:8080/"
        },
        "id": "TlWkfEnXcHhu",
        "outputId": "ece664f2-5704-4517-dd9b-f50fe5c0f936"
      },
      "execution_count": 9,
      "outputs": [
        {
          "output_type": "execute_result",
          "data": {
            "text/plain": [
              "0.9192433407662289"
            ]
          },
          "metadata": {},
          "execution_count": 9
        }
      ]
    },
    {
      "cell_type": "markdown",
      "source": [
        "# Empirical Rule (68/95/99)"
      ],
      "metadata": {
        "id": "ZJtsW4_OcbVx"
      }
    },
    {
      "cell_type": "code",
      "source": [
        "norm.cdf(1)"
      ],
      "metadata": {
        "colab": {
          "base_uri": "https://localhost:8080/"
        },
        "id": "8RWBWX4PcUal",
        "outputId": "9ac77fa8-54cd-413b-8e7e-d64fe0d356e0"
      },
      "execution_count": 10,
      "outputs": [
        {
          "output_type": "execute_result",
          "data": {
            "text/plain": [
              "0.8413447460685429"
            ]
          },
          "metadata": {},
          "execution_count": 10
        }
      ]
    },
    {
      "cell_type": "code",
      "source": [
        "norm.cdf(-1)"
      ],
      "metadata": {
        "colab": {
          "base_uri": "https://localhost:8080/"
        },
        "id": "RiLyutMWdMV5",
        "outputId": "5c9f3094-9f9a-44cb-a8b2-257cbff94203"
      },
      "execution_count": 11,
      "outputs": [
        {
          "output_type": "execute_result",
          "data": {
            "text/plain": [
              "0.15865525393145707"
            ]
          },
          "metadata": {},
          "execution_count": 11
        }
      ]
    },
    {
      "cell_type": "code",
      "source": [
        "#fraction of people having height within 1 standard deviation from the mean\n",
        "norm.cdf(1) - norm.cdf(-1)"
      ],
      "metadata": {
        "colab": {
          "base_uri": "https://localhost:8080/"
        },
        "id": "w34Au5PGdmJP",
        "outputId": "ca2498c7-e2ce-4c3e-9629-a596b1c89abd"
      },
      "execution_count": 12,
      "outputs": [
        {
          "output_type": "execute_result",
          "data": {
            "text/plain": [
              "0.6826894921370859"
            ]
          },
          "metadata": {},
          "execution_count": 12
        }
      ]
    },
    {
      "cell_type": "code",
      "source": [
        "#fraction of people having height within 2 standard deviation from the mean\n",
        "norm.cdf(2) - norm.cdf(-2)"
      ],
      "metadata": {
        "colab": {
          "base_uri": "https://localhost:8080/"
        },
        "id": "Y7HnSFoJd2fT",
        "outputId": "041b6bf8-bcf3-426a-9140-6e782df1e303"
      },
      "execution_count": 13,
      "outputs": [
        {
          "output_type": "execute_result",
          "data": {
            "text/plain": [
              "0.9544997361036416"
            ]
          },
          "metadata": {},
          "execution_count": 13
        }
      ]
    },
    {
      "cell_type": "code",
      "source": [
        "#fraction of people having height within 3 standard deviation from the mean\n",
        "norm.cdf(3) - norm.cdf(-3)"
      ],
      "metadata": {
        "colab": {
          "base_uri": "https://localhost:8080/"
        },
        "id": "xUHigPD3eFLw",
        "outputId": "2271e24c-21a0-46e4-9beb-fa5eeab328b3"
      },
      "execution_count": 14,
      "outputs": [
        {
          "output_type": "execute_result",
          "data": {
            "text/plain": [
              "0.9973002039367398"
            ]
          },
          "metadata": {},
          "execution_count": 14
        }
      ]
    },
    {
      "cell_type": "markdown",
      "source": [
        "The height of people is Gaussian with mean 65 inches and standard deviation 2.5 inches\n",
        "One person says:\n",
        "96% people are shorter than me. What is my height?"
      ],
      "metadata": {
        "id": "FEicHTjOe4Fu"
      }
    },
    {
      "cell_type": "markdown",
      "source": [
        "Percentile"
      ],
      "metadata": {
        "id": "3o7nkBfOfi6z"
      }
    },
    {
      "cell_type": "code",
      "source": [
        "z = norm.ppf(0.96)"
      ],
      "metadata": {
        "id": "65mi3uBDeLTi"
      },
      "execution_count": 15,
      "outputs": []
    },
    {
      "cell_type": "code",
      "source": [
        "z"
      ],
      "metadata": {
        "colab": {
          "base_uri": "https://localhost:8080/"
        },
        "id": "_c6pdDKKfmRB",
        "outputId": "71c58a90-1427-4839-c827-27484d0aa7fa"
      },
      "execution_count": 16,
      "outputs": [
        {
          "output_type": "execute_result",
          "data": {
            "text/plain": [
              "1.7506860712521692"
            ]
          },
          "metadata": {},
          "execution_count": 16
        }
      ]
    },
    {
      "cell_type": "code",
      "source": [
        "height = 65 + z*2.5"
      ],
      "metadata": {
        "id": "Kp_SYLaSfpTE"
      },
      "execution_count": 17,
      "outputs": []
    },
    {
      "cell_type": "code",
      "source": [
        "height"
      ],
      "metadata": {
        "colab": {
          "base_uri": "https://localhost:8080/"
        },
        "id": "cIhpDfyEf1TP",
        "outputId": "87a201da-a61b-47ef-baaa-5280f3a6c3bf"
      },
      "execution_count": 18,
      "outputs": [
        {
          "output_type": "execute_result",
          "data": {
            "text/plain": [
              "69.37671517813042"
            ]
          },
          "metadata": {},
          "execution_count": 18
        }
      ]
    },
    {
      "cell_type": "code",
      "source": [],
      "metadata": {
        "id": "3cJVEz87f10g"
      },
      "execution_count": null,
      "outputs": []
    }
  ]
}